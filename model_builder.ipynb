{
 "cells": [
  {
   "cell_type": "markdown",
   "metadata": {},
   "source": [
    "# importing libraries"
   ]
  },
  {
   "cell_type": "code",
   "execution_count": 1,
   "metadata": {},
   "outputs": [],
   "source": [
    "from tensorflow.keras.preprocessing.image import ImageDataGenerator, img_to_array, load_img\n",
    "from tensorflow.keras.applications import MobileNetV2\n",
    "from tensorflow.keras.layers import AveragePooling2D, Dropout, Flatten, Dense, Input\n",
    "from tensorflow.keras.models import Model\n",
    "from tensorflow.keras.optimizers import Adam\n",
    "from tensorflow.keras.applications.mobilenet_v2 import preprocess_input\n",
    "from tensorflow.keras.utils import to_categorical\n",
    "from sklearn.preprocessing import LabelBinarizer\n",
    "from sklearn.model_selection import train_test_split\n",
    "from sklearn.metrics import classification_report\n",
    "from imutils import paths\n",
    "import numpy as np\n",
    "import os"
   ]
  },
  {
   "cell_type": "markdown",
   "metadata": {},
   "source": [
    "# defining paths and parameters"
   ]
  },
  {
   "cell_type": "code",
   "execution_count": 2,
   "metadata": {},
   "outputs": [],
   "source": [
    "dataset_path = \"dataset\""
   ]
  },
  {
   "cell_type": "code",
   "execution_count": 3,
   "metadata": {},
   "outputs": [],
   "source": [
    "INIT_LR = 1e-4\n",
    "EPOCHS = 20\n",
    "BS = 32"
   ]
  },
  {
   "cell_type": "markdown",
   "metadata": {},
   "source": [
    "# loading and pre-processing data"
   ]
  },
  {
   "cell_type": "code",
   "execution_count": 4,
   "metadata": {},
   "outputs": [],
   "source": [
    "imagePaths = list(paths.list_images(dataset_path))\n",
    "images = []\n",
    "labels = []\n",
    "\n",
    "for img_path in imagePaths:\n",
    "    # extract the class label from the filename\n",
    "    label = img_path.split(os.path.sep)[-2]\n",
    "\n",
    "    # load the input image (224x224) and preprocess it\n",
    "    image = load_img(img_path, target_size=(224, 224))\n",
    "    image = img_to_array(image)\n",
    "    image = preprocess_input(image)\n",
    "\n",
    "    # update the data and labels lists, respectively\n",
    "    images.append(image)\n",
    "    labels.append(label)"
   ]
  },
  {
   "cell_type": "code",
   "execution_count": 5,
   "metadata": {},
   "outputs": [],
   "source": [
    "data = np.array(images, dtype=\"float32\")\n",
    "labels = np.array(labels)"
   ]
  },
  {
   "cell_type": "code",
   "execution_count": 6,
   "metadata": {},
   "outputs": [],
   "source": [
    "# perform one-hot encoding on the labels\n",
    "labelbinarizer = LabelBinarizer()\n",
    "labels = labelbinarizer.fit_transform(labels)\n",
    "labels = to_categorical(labels)"
   ]
  },
  {
   "cell_type": "code",
   "execution_count": 7,
   "metadata": {},
   "outputs": [],
   "source": [
    "(trainX, testX, trainY, testY) = train_test_split(data, labels, test_size=0.20, stratify=labels, random_state=42)"
   ]
  },
  {
   "cell_type": "code",
   "execution_count": 8,
   "metadata": {},
   "outputs": [],
   "source": [
    "# construct the training image generator for data augmentation\n",
    "datagen = ImageDataGenerator(\n",
    "    rotation_range=25,\n",
    "    zoom_range=0.2,\n",
    "    width_shift_range=0.2,\n",
    "    height_shift_range=0.2,\n",
    "    shear_range=0.2,\n",
    "    horizontal_flip=True,\n",
    "    fill_mode=\"nearest\")"
   ]
  },
  {
   "cell_type": "markdown",
   "metadata": {},
   "source": [
    "# fine-tuning"
   ]
  },
  {
   "cell_type": "code",
   "execution_count": 9,
   "metadata": {
    "collapsed": true
   },
   "outputs": [
    {
     "name": "stderr",
     "output_type": "stream",
     "text": [
      "C:\\Users\\Dell\\AppData\\Roaming\\Python\\Python37\\site-packages\\keras_applications\\mobilenet_v2.py:294: UserWarning: `input_shape` is undefined or non-square, or `rows` is not in [96, 128, 160, 192, 224]. Weights for input shape (224, 224) will be loaded as the default.\n",
      "  warnings.warn('`input_shape` is undefined or non-square, '\n",
      "WARNING: Logging before flag parsing goes to stderr.\n",
      "W0529 11:06:06.754987  3420 deprecation.py:506] From C:\\Users\\Dell\\AppData\\Roaming\\Python\\Python37\\site-packages\\tensorflow\\python\\ops\\init_ops.py:1251: calling VarianceScaling.__init__ (from tensorflow.python.ops.init_ops) with dtype is deprecated and will be removed in a future version.\n",
      "Instructions for updating:\n",
      "Call initializer instance with the dtype argument instead of passing it to the constructor\n"
     ]
    }
   ],
   "source": [
    "bModel = MobileNetV2(weights=\"imagenet\", include_top=False, input_tensor=Input(shape=(224, 224, 3)))\n",
    "\n",
    "# construct the head of the model that will be placed on top of the the base model\n",
    "hModel = bModel.output\n",
    "hModel = AveragePooling2D(pool_size=(5, 5))(hModel)\n",
    "hModel = Flatten(name=\"flatten\")(hModel)\n",
    "hModel = Dense(128, activation=\"relu\")(hModel)\n",
    "hModel = Dropout(0.5)(hModel)\n",
    "hModel = Dense(2, activation=\"softmax\")(hModel)\n",
    "\n",
    "model = Model(inputs=bModel.input, outputs=hModel)\n",
    "\n",
    "for layer in bModel.layers:\n",
    "    layer.trainable = False"
   ]
  },
  {
   "cell_type": "markdown",
   "metadata": {},
   "source": [
    "# training and compiling the model"
   ]
  },
  {
   "cell_type": "code",
   "execution_count": 11,
   "metadata": {},
   "outputs": [
    {
     "name": "stdout",
     "output_type": "stream",
     "text": [
      "Epoch 1/20\n"
     ]
    },
    {
     "name": "stderr",
     "output_type": "stream",
     "text": [
      "W0529 11:06:53.749636  3420 deprecation.py:323] From C:\\Users\\Dell\\AppData\\Roaming\\Python\\Python37\\site-packages\\tensorflow\\python\\ops\\math_grad.py:1250: add_dispatch_support.<locals>.wrapper (from tensorflow.python.ops.array_ops) is deprecated and will be removed in a future version.\n",
      "Instructions for updating:\n",
      "Use tf.where in 2.0, which has the same broadcast rule as np.where\n"
     ]
    },
    {
     "name": "stdout",
     "output_type": "stream",
     "text": [
      "34/34 [==============================] - 294s 9s/step - loss: 0.7480 - acc: 0.6264 - val_loss: 0.3708 - val_acc: 0.8442\n",
      "Epoch 2/20\n",
      "34/34 [==============================] - 330s 10s/step - loss: 0.4638 - acc: 0.7753 - val_loss: 0.2070 - val_acc: 0.9348\n",
      "Epoch 3/20\n",
      "34/34 [==============================] - 355s 10s/step - loss: 0.3175 - acc: 0.8642 - val_loss: 0.1278 - val_acc: 0.9674\n",
      "Epoch 4/20\n",
      "34/34 [==============================] - 332s 10s/step - loss: 0.2664 - acc: 0.8717 - val_loss: 0.1136 - val_acc: 0.9601\n",
      "Epoch 5/20\n",
      "34/34 [==============================] - 325s 10s/step - loss: 0.2340 - acc: 0.9099 - val_loss: 0.0799 - val_acc: 0.9819\n",
      "Epoch 6/20\n",
      "34/34 [==============================] - 302s 9s/step - loss: 0.2431 - acc: 0.9074 - val_loss: 0.0697 - val_acc: 0.9855\n",
      "Epoch 7/20\n",
      "34/34 [==============================] - 300s 9s/step - loss: 0.1888 - acc: 0.9232 - val_loss: 0.0558 - val_acc: 0.9928\n",
      "Epoch 8/20\n",
      "34/34 [==============================] - 301s 9s/step - loss: 0.1704 - acc: 0.9260 - val_loss: 0.0679 - val_acc: 0.9746\n",
      "Epoch 9/20\n",
      "34/34 [==============================] - 293s 9s/step - loss: 0.1661 - acc: 0.9354 - val_loss: 0.0448 - val_acc: 0.9964\n",
      "Epoch 10/20\n",
      "34/34 [==============================] - 307s 9s/step - loss: 0.1432 - acc: 0.9485 - val_loss: 0.0390 - val_acc: 0.9964\n",
      "Epoch 11/20\n",
      "34/34 [==============================] - 321s 9s/step - loss: 0.1619 - acc: 0.9384 - val_loss: 0.0371 - val_acc: 0.9964\n",
      "Epoch 12/20\n",
      "34/34 [==============================] - 310s 9s/step - loss: 0.1461 - acc: 0.9494 - val_loss: 0.0417 - val_acc: 0.9928\n",
      "Epoch 13/20\n",
      "34/34 [==============================] - 318s 9s/step - loss: 0.1097 - acc: 0.9596 - val_loss: 0.0363 - val_acc: 0.9964\n",
      "Epoch 14/20\n",
      "34/34 [==============================] - 292s 9s/step - loss: 0.1239 - acc: 0.9504 - val_loss: 0.0433 - val_acc: 0.9891\n",
      "Epoch 15/20\n",
      "34/34 [==============================] - 301s 9s/step - loss: 0.1455 - acc: 0.9475 - val_loss: 0.0412 - val_acc: 0.9891\n",
      "Epoch 16/20\n",
      "34/34 [==============================] - 298s 9s/step - loss: 0.1222 - acc: 0.9551 - val_loss: 0.0376 - val_acc: 0.9928\n",
      "Epoch 17/20\n",
      "34/34 [==============================] - 305s 9s/step - loss: 0.1083 - acc: 0.9654 - val_loss: 0.0330 - val_acc: 0.9928\n",
      "Epoch 18/20\n",
      "34/34 [==============================] - 278s 8s/step - loss: 0.1087 - acc: 0.9476 - val_loss: 0.0430 - val_acc: 0.9855\n",
      "Epoch 19/20\n",
      "34/34 [==============================] - 269s 8s/step - loss: 0.1246 - acc: 0.9569 - val_loss: 0.0354 - val_acc: 0.9928\n",
      "Epoch 20/20\n",
      "34/34 [==============================] - 263s 8s/step - loss: 0.1188 - acc: 0.9523 - val_loss: 0.0254 - val_acc: 0.9928\n"
     ]
    }
   ],
   "source": [
    "# compile our model\n",
    "opt = Adam(lr=INIT_LR, decay=INIT_LR / EPOCHS)\n",
    "model.compile(loss=\"binary_crossentropy\", optimizer=opt, metrics=[\"accuracy\"])\n",
    "\n",
    "# train the head\n",
    "H = model.fit(\n",
    "    datagen.flow(trainX, trainY, batch_size=BS),\n",
    "    steps_per_epoch=len(trainX) // BS,\n",
    "    validation_data=(testX, testY),\n",
    "    validation_steps=len(testX) // BS,\n",
    "    epochs=EPOCHS)"
   ]
  },
  {
   "cell_type": "markdown",
   "metadata": {},
   "source": [
    "# saving the model"
   ]
  },
  {
   "cell_type": "code",
   "execution_count": null,
   "metadata": {},
   "outputs": [],
   "source": [
    "#save the model\n",
    "print(\"saving the mask detector model...\")\n",
    "model.save(\"model_mask.h5\")\n",
    "print('MODEL SAVED')"
   ]
  }
 ],
 "metadata": {
  "kernelspec": {
   "display_name": "Python 3",
   "language": "python",
   "name": "python3"
  },
  "language_info": {
   "codemirror_mode": {
    "name": "ipython",
    "version": 3
   },
   "file_extension": ".py",
   "mimetype": "text/x-python",
   "name": "python",
   "nbconvert_exporter": "python",
   "pygments_lexer": "ipython3",
   "version": "3.7.0"
  }
 },
 "nbformat": 4,
 "nbformat_minor": 2
}
